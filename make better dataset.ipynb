{
 "cells": [
  {
   "cell_type": "code",
   "execution_count": 67,
   "id": "eefa97f9",
   "metadata": {},
   "outputs": [],
   "source": [
    "import numpy as np\n",
    "import skimage \n",
    "from skimage import io\n",
    "from skimage.measure import label, regionprops, regionprops_table\n",
    "from skimage.segmentation import clear_border, expand_labels\n",
    "from skimage.color import label2rgb\n",
    "import scipy\n",
    "from PIL import Image\n",
    "import glob\n",
    "import os\n",
    "import matplotlib.pyplot as plt"
   ]
  },
  {
   "cell_type": "code",
   "execution_count": 73,
   "id": "32c51b99",
   "metadata": {},
   "outputs": [],
   "source": [
    "def segmentation(im, num_erosions = 5, diameter_threshold = 300, disk_size = 2):\n",
    "    '''\n",
    "    input: raw image\n",
    "    output: segmented image\n",
    "\n",
    "    This function segments images of ice floes. We make use of skimage.filters.threshold_otsu, \n",
    "    skimage.morphology.binary_erosion, and skimage.morphology.diameter_closing. Erosional steps \n",
    "    help to distinguish ice floes from on another. The high diameter threshold fills melt ponds. \n",
    "    The disk size is a parameter in the erosion and the connectivity is a parameter in the hole \n",
    "    filling. For the helicopter photos from HOTRAX 2005, these defaults worked well, but playing \n",
    "    with them might result in more accurate segmentations. \n",
    "    '''\n",
    "    \n",
    "    # Threshold.\n",
    "    threshold = skimage.filters.threshold_triangle(im) - 0.075\n",
    "    simple_threshold = (im < threshold)\n",
    "    simple_threshold = 1 - simple_threshold\n",
    "\n",
    "    # Erode.\n",
    "    i = 0\n",
    "    eroded_threshold = simple_threshold\n",
    "    while i < num_erosions:\n",
    "        eroded_threshold = skimage.morphology.binary_erosion(eroded_threshold, skimage.morphology.disk(disk_size))\n",
    "        i+=1\n",
    "\n",
    "    # Fill holes and ponds.\n",
    "    segmented_im = skimage.morphology.diameter_closing(eroded_threshold, diameter_threshold = diameter_threshold)\n",
    "    \n",
    "    # Return segmentation. \n",
    "    return segmented_im.astype(int)"
   ]
  },
  {
   "cell_type": "markdown",
   "id": "37b8e3c8",
   "metadata": {},
   "source": [
    "later: have preprocess return an image to use in segmentation and just a chopped up color image. try to train model on color image instead"
   ]
  },
  {
   "cell_type": "code",
   "execution_count": 74,
   "id": "44ac1d03",
   "metadata": {},
   "outputs": [],
   "source": [
    "def preprocess(image):\n",
    "    # Mask\n",
    "    image_s = np.array(skimage.color.rgb2gray(image))\n",
    "    image_s = Image.fromarray(image_s)\n",
    "    MAX_SIZE = (1000, 1000)\n",
    "    image_s.thumbnail(MAX_SIZE)\n",
    "    image_s = np.array(image_s)\n",
    "    image_s = image_s[0:640, 0:896]\n",
    "    \n",
    "    # Image\n",
    "    image.thumbnail(MAX_SIZE)\n",
    "    image = np.array(image)\n",
    "    image = image[0:640, 0:896, :]\n",
    "    return image_s, image"
   ]
  },
  {
   "cell_type": "code",
   "execution_count": 76,
   "id": "d4016e20",
   "metadata": {},
   "outputs": [],
   "source": [
    "image_dir = '/scratch/groups/earlew/arlenlex/cs230-datasetv2/images/'\n",
    "out_x_train = '/scratch/groups/earlew/arlenlex/cs230-datasetv2/train/x_trainb/'\n",
    "out_y_train = '/scratch/groups/earlew/arlenlex/cs230-datasetv2/train/y_trainb/'\n",
    "out_x_test = '/scratch/groups/earlew/arlenlex/cs230-datasetv2/test/x_testb/'\n",
    "out_y_test = '/scratch/groups/earlew/arlenlex/cs230-datasetv2/test/y_testb/'"
   ]
  },
  {
   "cell_type": "code",
   "execution_count": 77,
   "id": "672ab6a0",
   "metadata": {
    "scrolled": false
   },
   "outputs": [],
   "source": [
    "idx = 0\n",
    "for filename in sorted(glob.glob(os.path.join(image_dir, '*.JPG'))):\n",
    "    # Segment\n",
    "    image = Image.open(filename)\n",
    "    im_s, image = preprocess(image)\n",
    "    mask = segmentation(im_s)\n",
    "    name, ext = os.path.splitext(filename)\n",
    "    name = os.path.basename(name)\n",
    "    \n",
    "\n",
    "    # Export\n",
    "    out_x_train_path = out_x_train + name + '_image'\n",
    "    out_y_train_path = out_y_train + name + '_mask'\n",
    "    out_x_test_path = out_x_test + name + '_image'\n",
    "    out_y_test_path = out_y_test + name + '_mask'\n",
    "    if idx % 10 != 0:\n",
    "        np.save(out_x_train_path, image)\n",
    "        np.save(out_y_train_path, mask)\n",
    "    else:\n",
    "        np.save(out_x_test_path, image)\n",
    "        np.save(out_y_test_path, mask)\n",
    "    idx+=1\n"
   ]
  }
 ],
 "metadata": {
  "kernelspec": {
   "display_name": "Python 3 (ipykernel)",
   "language": "python",
   "name": "python3"
  },
  "language_info": {
   "codemirror_mode": {
    "name": "ipython",
    "version": 3
   },
   "file_extension": ".py",
   "mimetype": "text/x-python",
   "name": "python",
   "nbconvert_exporter": "python",
   "pygments_lexer": "ipython3",
   "version": "3.11.3"
  }
 },
 "nbformat": 4,
 "nbformat_minor": 5
}
