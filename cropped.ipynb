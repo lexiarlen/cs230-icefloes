{
 "cells": [
  {
   "cell_type": "markdown",
   "id": "b807419e",
   "metadata": {},
   "source": [
    "# Preprocessing\n",
    "\n",
    "This notebook crops the large 15km by 15km GFL images and crop them into images that are 1024 x 1024 pixels = 1024 x 1024 meters. "
   ]
  },
  {
   "cell_type": "code",
   "execution_count": 10,
   "id": "7e738b67",
   "metadata": {},
   "outputs": [],
   "source": [
    "from PIL import Image\n",
    "from itertools import product\n",
    "import glob\n",
    "import os\n",
    "Image.MAX_IMAGE_PIXELS = None\n",
    "import numpy as np\n",
    "import h5py\n",
    "import torch\n",
    "import matplotlib.image as pltim"
   ]
  },
  {
   "cell_type": "code",
   "execution_count": 2,
   "id": "a00f69ea",
   "metadata": {},
   "outputs": [],
   "source": [
    "def tile(filename, dir_out_train, dir_out_test, d):\n",
    "    name, ext = os.path.splitext(filename)\n",
    "    name = os.path.basename(name)\n",
    "    img = Image.open(filename)\n",
    "    w, h = img.size\n",
    "    \n",
    "    grid = product(range(0, h-h%d, d), range(0, w-w%d, d))\n",
    "    idx = 0\n",
    "    for i, j in grid:\n",
    "        box = (j, i, j+d, i+d)\n",
    "        out_test = os.path.join(dir_out_test, f'{name}_index_{idx}.jpeg')\n",
    "        out_train = os.path.join(dir_out_train, f'{name}_index_{idx}.jpeg')\n",
    "        crop = img.crop(box)\n",
    "        if idx%28 == 0:\n",
    "            crop.save(out_test, format='jpeg' )\n",
    "        else:\n",
    "            crop.save(out_train, format='jpeg')\n",
    "        idx+=1"
   ]
  },
  {
   "cell_type": "code",
   "execution_count": 3,
   "id": "58b5bd3a",
   "metadata": {},
   "outputs": [],
   "source": [
    "def tile_mask(filename, dir_out_train, dir_out_test, d):\n",
    "    name, ext = os.path.splitext(filename)\n",
    "    name = os.path.basename(name)\n",
    "    f = h5py.File(filename,'r')\n",
    "    data = f['L']\n",
    "    data = np.array(data).T\n",
    "    f.close()\n",
    "    img = Image.fromarray(data)\n",
    "    w, h = img.size\n",
    "    \n",
    "    grid = product(range(0, h-h%d, d), range(0, w-w%d, d))\n",
    "    idx = 0\n",
    "    for i, j in grid:\n",
    "        box = (j, i, j+d, i+d)\n",
    "        out_test = os.path.join(dir_out_test, f'{name}_index_{idx}.jpeg')\n",
    "        out_train = os.path.join(dir_out_train, f'{name}_index_{idx}.jpeg')\n",
    "        crop = img.crop(box) \n",
    "        crop = np.array(crop)/255\n",
    "        crop[crop <= 0.5] = 0\n",
    "        crop[crop > 0.5] = 1\n",
    "        crop = Image.fromarray(np.uint8(crop * 255))\n",
    "        #crop = crop.convert('L')\n",
    "        if idx%28 == 0:\n",
    "            crop.save(out_test, format='jpeg')\n",
    "        else:\n",
    "            crop.save(out_train, format='jpeg')\n",
    "        idx+=1"
   ]
  },
  {
   "cell_type": "markdown",
   "id": "477b1b23",
   "metadata": {},
   "source": [
    "## Input images"
   ]
  },
  {
   "cell_type": "markdown",
   "id": "681a3057",
   "metadata": {},
   "source": [
    "oops i accidentally deleted x_train from sherlock dummy"
   ]
  },
  {
   "cell_type": "code",
   "execution_count": 40,
   "id": "64f2f2ec",
   "metadata": {},
   "outputs": [],
   "source": [
    "dir_in_x = '/scratch/groups/earlew/arlenlex/dl-ice-floes/x/gt/'\n",
    "dir_out_x_train = '/scratch/groups/earlew/arlenlex/cs230-dataset/train/x_train'\n",
    "dir_out_x_test = '/scratch/groups/earlew/arlenlex/cs230-dataset/test/x_test'"
   ]
  },
  {
   "cell_type": "code",
   "execution_count": 41,
   "id": "48e54950",
   "metadata": {
    "scrolled": false
   },
   "outputs": [],
   "source": [
    "for filename in sorted(glob.glob(os.path.join(dir_in_x, '*.tif'))):\n",
    "    tile(filename, dir_out_x_train, dir_out_x_test, 1024)"
   ]
  },
  {
   "cell_type": "markdown",
   "id": "30db9b2f",
   "metadata": {},
   "source": [
    "## Masks"
   ]
  },
  {
   "cell_type": "code",
   "execution_count": 4,
   "id": "433b64d0",
   "metadata": {},
   "outputs": [],
   "source": [
    "dir_in_y = '/scratch/groups/earlew/arlenlex/dl-ice-floes/y/labeled-matlab-files/'\n",
    "dir_out_y_train = '/scratch/groups/earlew/arlenlex/cs230-dataset/train/y_train'\n",
    "dir_out_y_test = '/scratch/groups/earlew/arlenlex/cs230-dataset/test/y_test'"
   ]
  },
  {
   "cell_type": "code",
   "execution_count": 5,
   "id": "8eb12057",
   "metadata": {},
   "outputs": [],
   "source": [
    "for filename in sorted(glob.glob(os.path.join(dir_in_y, '*.mat'))):\n",
    "    tile_mask(filename, dir_out_y_train, dir_out_y_test, 1024)"
   ]
  },
  {
   "cell_type": "markdown",
   "id": "aec17482",
   "metadata": {},
   "source": [
    "# Test"
   ]
  },
  {
   "cell_type": "code",
   "execution_count": 18,
   "id": "0250ed31",
   "metadata": {},
   "outputs": [
    {
     "name": "stdout",
     "output_type": "stream",
     "text": [
      "w =  30202  h =   11030\n"
     ]
    }
   ],
   "source": [
    "filename = '/scratch/groups/earlew/arlenlex/dl-ice-floes/x/gt/beaufo_19990728_2.tif'\n",
    "name, ext = os.path.splitext(filename)\n",
    "name = os.path.basename(name)\n",
    "img = Image.open(filename)\n",
    "w, h = img.size\n",
    "print(\"w = \", w, \" h =  \", h)"
   ]
  },
  {
   "cell_type": "code",
   "execution_count": 17,
   "id": "d2363e5f",
   "metadata": {},
   "outputs": [
    {
     "name": "stdout",
     "output_type": "stream",
     "text": [
      "float64\n",
      "w =  30202  h =   11030\n"
     ]
    }
   ],
   "source": [
    "filename = '/scratch/groups/earlew/arlenlex/dl-ice-floes/y/labeled-matlab-files/beaufo_19990728_2.mat'\n",
    "name, ext = os.path.splitext(filename)\n",
    "name = os.path.basename(name)\n",
    "f = h5py.File(filename,'r')\n",
    "data = f.get('L')\n",
    "data = np.array(data).T \n",
    "f.close()\n",
    "img = Image.fromarray(data)\n",
    "print(data.dtype)\n",
    "w, h = img.size\n",
    "print(\"w = \", w, \" h =  \", h)"
   ]
  },
  {
   "cell_type": "markdown",
   "id": "951e8516",
   "metadata": {},
   "source": [
    "# Try as numpy"
   ]
  },
  {
   "cell_type": "code",
   "execution_count": 11,
   "id": "a6f3787b",
   "metadata": {},
   "outputs": [],
   "source": [
    "def tile_npy(filename, dir_out_train, dir_out_test, d):\n",
    "    name, ext = os.path.splitext(filename)\n",
    "    name = os.path.basename(name)\n",
    "    img = Image.open(filename)\n",
    "    w, h = img.size\n",
    "    \n",
    "    grid = product(range(0, h-h%d, d), range(0, w-w%d, d))\n",
    "    idx = 0\n",
    "    for i, j in grid:\n",
    "        box = (j, i, j+d, i+d)\n",
    "        out_test = os.path.join(dir_out_test, f'{name}_index_{idx}')\n",
    "        out_train = os.path.join(dir_out_train, f'{name}_index_{idx}')\n",
    "        crop = img.crop(box)\n",
    "        \n",
    "        MAX_SIZE = (512, 512) \n",
    "        crop.thumbnail(MAX_SIZE) \n",
    "        \n",
    "        crop = np.array(crop)\n",
    "        if idx%28 == 0:\n",
    "            np.save(out_test, crop)\n",
    "        else:\n",
    "            np.save(out_train, crop)\n",
    "        idx+=1"
   ]
  },
  {
   "cell_type": "code",
   "execution_count": 12,
   "id": "9ac74c6b",
   "metadata": {},
   "outputs": [],
   "source": [
    "def tile_mask_npy(filename, dir_out_train, dir_out_test, d):\n",
    "    name, ext = os.path.splitext(filename)\n",
    "    name = os.path.basename(name)\n",
    "    f = h5py.File(filename,'r')\n",
    "    data = f['L']\n",
    "    data = np.array(data).T\n",
    "    f.close()\n",
    "    img = Image.fromarray(data)\n",
    "    w, h = img.size\n",
    "    \n",
    "    grid = product(range(0, h-h%d, d), range(0, w-w%d, d))\n",
    "    idx = 0\n",
    "    for i, j in grid:\n",
    "        box = (j, i, j+d, i+d)\n",
    "        out_test = os.path.join(dir_out_test, f'{name}_index_{idx}')\n",
    "        out_train = os.path.join(dir_out_train, f'{name}_index_{idx}')\n",
    "        crop = img.crop(box)\n",
    "        \n",
    "        MAX_SIZE = (512, 512) \n",
    "        crop.thumbnail(MAX_SIZE) \n",
    "        \n",
    "        crop = np.array(crop)/255\n",
    "        crop[crop <= 0.5] = 0\n",
    "        crop[crop > 0.5] = 1\n",
    "        if idx%28 == 0:\n",
    "            np.save(out_test, crop)\n",
    "        else:\n",
    "            np.save(out_train, crop)\n",
    "        idx+=1"
   ]
  },
  {
   "cell_type": "markdown",
   "id": "7eb84bd8",
   "metadata": {},
   "source": [
    "# Input images"
   ]
  },
  {
   "cell_type": "code",
   "execution_count": 13,
   "id": "b962694d",
   "metadata": {},
   "outputs": [],
   "source": [
    "dir_in_x = '/scratch/groups/earlew/arlenlex/dl-ice-floes/x/gt/'\n",
    "dir_out_x_train = '/scratch/groups/earlew/arlenlex/cs230-dataset/train/x_train_npy'\n",
    "dir_out_x_test = '/scratch/groups/earlew/arlenlex/cs230-dataset/test/x_test_npy'\n",
    "for filename in sorted(glob.glob(os.path.join(dir_in_x, '*.tif'))):\n",
    "    tile_npy(filename, dir_out_x_train, dir_out_x_test, 1024)"
   ]
  },
  {
   "cell_type": "markdown",
   "id": "0a4fd677",
   "metadata": {},
   "source": [
    "# Masks"
   ]
  },
  {
   "cell_type": "code",
   "execution_count": 14,
   "id": "64a02d6e",
   "metadata": {},
   "outputs": [],
   "source": [
    "dir_in_y = '/scratch/groups/earlew/arlenlex/dl-ice-floes/y/labeled-matlab-files/'\n",
    "dir_out_y_train = '/scratch/groups/earlew/arlenlex/cs230-dataset/train/y_train_npy'\n",
    "dir_out_y_test = '/scratch/groups/earlew/arlenlex/cs230-dataset/test/y_test_npy'\n",
    "for filename in sorted(glob.glob(os.path.join(dir_in_y, '*.mat'))):\n",
    "    tile_mask_npy(filename, dir_out_y_train, dir_out_y_test, 1024)"
   ]
  },
  {
   "cell_type": "code",
   "execution_count": null,
   "id": "442853de",
   "metadata": {},
   "outputs": [],
   "source": []
  }
 ],
 "metadata": {
  "kernelspec": {
   "display_name": "Python 3 (ipykernel)",
   "language": "python",
   "name": "python3"
  },
  "language_info": {
   "codemirror_mode": {
    "name": "ipython",
    "version": 3
   },
   "file_extension": ".py",
   "mimetype": "text/x-python",
   "name": "python",
   "nbconvert_exporter": "python",
   "pygments_lexer": "ipython3",
   "version": "3.7.16"
  }
 },
 "nbformat": 4,
 "nbformat_minor": 5
}
