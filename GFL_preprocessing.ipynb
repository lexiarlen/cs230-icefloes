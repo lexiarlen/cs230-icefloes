{
 "cells": [
  {
   "cell_type": "markdown",
   "id": "b807419e",
   "metadata": {},
   "source": [
    "# Preprocessing\n",
    "\n",
    "This notebook crops the large 15km by 15km GFL images and crop them into images that are 1024 x 1024 pixels = 1024 x 1024 meters. We then downsample the images so that the files are 512 x 512. "
   ]
  },
  {
   "cell_type": "code",
   "execution_count": 10,
   "id": "7e738b67",
   "metadata": {},
   "outputs": [],
   "source": [
    "from PIL import Image\n",
    "from itertools import product\n",
    "import glob\n",
    "import os\n",
    "Image.MAX_IMAGE_PIXELS = None\n",
    "import numpy as np\n",
    "import h5py\n",
    "import torch\n",
    "import matplotlib.image as pltim"
   ]
  },
  {
   "cell_type": "markdown",
   "id": "951e8516",
   "metadata": {},
   "source": [
    "# Define the cropping functions.\n",
    "We use two separate functions as our masks are intially .mat files and our images are intiially .tif files."
   ]
  },
  {
   "cell_type": "code",
   "execution_count": 11,
   "id": "a6f3787b",
   "metadata": {},
   "outputs": [],
   "source": [
    "def tile_npy(filename, dir_out_train, dir_out_test, d):\n",
    "    name, ext = os.path.splitext(filename)\n",
    "    name = os.path.basename(name)\n",
    "    img = Image.open(filename)\n",
    "    w, h = img.size\n",
    "    \n",
    "    grid = product(range(0, h-h%d, d), range(0, w-w%d, d))\n",
    "    idx = 0\n",
    "    for i, j in grid:\n",
    "        box = (j, i, j+d, i+d)\n",
    "        out_test = os.path.join(dir_out_test, f'{name}_index_{idx}')\n",
    "        out_train = os.path.join(dir_out_train, f'{name}_index_{idx}')\n",
    "        crop = img.crop(box)\n",
    "        \n",
    "        MAX_SIZE = (512, 512) \n",
    "        crop.thumbnail(MAX_SIZE) \n",
    "        \n",
    "        crop = np.array(crop)\n",
    "        if idx%28 == 0:\n", 
    "        "#save every 28th image into the test directory\n",
    "            "np.save(out_test, crop)\n",
    "        else:\n",
    "            np.save(out_train, crop)\n",
    "        idx+=1"
   ]
  },
  {
   "cell_type": "code",
   "execution_count": 12,
   "id": "9ac74c6b",
   "metadata": {},
   "outputs": [],
   "source": [
    "def tile_mask_npy(filename, dir_out_train, dir_out_test, d):\n",
    "    name, ext = os.path.splitext(filename)\n",
    "    name = os.path.basename(name)\n",
    "    f = h5py.File(filename,'r')\n",
    "    data = f['L']\n",
    "    data = np.array(data).T\n",
    "    f.close()\n",
    "    img = Image.fromarray(data)\n",
    "    w, h = img.size\n",
    "    \n",
    "    grid = product(range(0, h-h%d, d), range(0, w-w%d, d))\n",
    "    idx = 0\n",
    "    for i, j in grid:\n",
    "        box = (j, i, j+d, i+d)\n",
    "        out_test = os.path.join(dir_out_test, f'{name}_index_{idx}')\n",
    "        out_train = os.path.join(dir_out_train, f'{name}_index_{idx}')\n",
    "        crop = img.crop(box)\n",
    "        \n",
    "        MAX_SIZE = (512, 512) \n",
    "        crop.thumbnail(MAX_SIZE) \n",
    "        \n",
    "        crop = np.array(crop)/255\n",
    "        crop[crop <= 0.5] = 0\n",
    "        crop[crop > 0.5] = 1\n",
    "        if idx%28 == 0:\n",
    "            np.save(out_test, crop)\n",
    "        else:\n",
    "            np.save(out_train, crop)\n",
    "        idx+=1"
   ]
  },
  {
   "cell_type": "markdown",
   "id": "05aef125",
   "metadata": {},
   "source": [
    "# Crop the input images"
   ]
  },
  {
   "cell_type": "code",
   "execution_count": 13,
   "id": "b962694d",
   "metadata": {},
   "outputs": [],
   "source": [
    "dir_in_x = '/scratch/groups/earlew/arlenlex/dl-ice-floes/x/gt/'\n",
    "dir_out_x_train = '/scratch/groups/earlew/arlenlex/cs230-dataset/train/x_train_npy'\n",
    "dir_out_x_test = '/scratch/groups/earlew/arlenlex/cs230-dataset/test/x_test_npy'\n",
    "for filename in sorted(glob.glob(os.path.join(dir_in_x, '*.tif'))):\n",
    "    tile_npy(filename, dir_out_x_train, dir_out_x_test, 1024)"
   ]
  },
  {
   "cell_type": "markdown",
   "id": "0a4fd677",
   "metadata": {},
   "source": [
    "# Crop the masks"
   ]
  },
  {
   "cell_type": "code",
   "execution_count": 14,
   "id": "64a02d6e",
   "metadata": {},
   "outputs": [],
   "source": [
    "dir_in_y = '/scratch/groups/earlew/arlenlex/dl-ice-floes/y/labeled-matlab-files/'\n",
    "dir_out_y_train = '/scratch/groups/earlew/arlenlex/cs230-dataset/train/y_train_npy'\n",
    "dir_out_y_test = '/scratch/groups/earlew/arlenlex/cs230-dataset/test/y_test_npy'\n",
    "for filename in sorted(glob.glob(os.path.join(dir_in_y, '*.mat'))):\n",
    "    tile_mask_npy(filename, dir_out_y_train, dir_out_y_test, 1024)"
   ]
  }
 ],
 "metadata": {
  "kernelspec": {
   "display_name": "Python 3 (ipykernel)",
   "language": "python",
   "name": "python3"
  },
  "language_info": {
   "codemirror_mode": {
    "name": "ipython",
    "version": 3
   },
   "file_extension": ".py",
   "mimetype": "text/x-python",
   "name": "python",
   "nbconvert_exporter": "python",
   "pygments_lexer": "ipython3",
   "version": "3.7.16"
  }
 },
 "nbformat": 4,
 "nbformat_minor": 5
}
